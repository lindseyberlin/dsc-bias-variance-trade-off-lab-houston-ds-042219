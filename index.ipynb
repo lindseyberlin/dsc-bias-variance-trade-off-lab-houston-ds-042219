{
 "cells": [
  {
   "cell_type": "markdown",
   "metadata": {},
   "source": [
    "# Bias-Variance Trade-Off - Lab"
   ]
  },
  {
   "cell_type": "markdown",
   "metadata": {},
   "source": [
    "## Introduction"
   ]
  },
  {
   "cell_type": "markdown",
   "metadata": {},
   "source": [
    "In this lab, you'll practice your knowledge on the bias-variance trade-off!"
   ]
  },
  {
   "cell_type": "markdown",
   "metadata": {},
   "source": [
    "## Objectives"
   ]
  },
  {
   "cell_type": "markdown",
   "metadata": {},
   "source": [
    "You will be able to: \n",
    "- Look at an example where Polynomial regression leads to overfitting\n",
    "- Understand how bias-variance trade-off relates to underfitting and overfitting"
   ]
  },
  {
   "cell_type": "markdown",
   "metadata": {},
   "source": [
    "## Let's get started!"
   ]
  },
  {
   "cell_type": "markdown",
   "metadata": {},
   "source": [
    "In this lab, you'll try to predict some movie revenues based on certain factors, such as ratings and movie year."
   ]
  },
  {
   "cell_type": "code",
<<<<<<< HEAD
   "execution_count": 1,
=======
   "execution_count": 3,
>>>>>>> 92cb8a772358e28fa55891737d4e7d218b55d512
   "metadata": {},
   "outputs": [
    {
     "data": {
      "text/html": [
       "<div>\n",
       "<style scoped>\n",
       "    .dataframe tbody tr th:only-of-type {\n",
       "        vertical-align: middle;\n",
       "    }\n",
       "\n",
       "    .dataframe tbody tr th {\n",
       "        vertical-align: top;\n",
       "    }\n",
       "\n",
       "    .dataframe thead th {\n",
       "        text-align: right;\n",
       "    }\n",
       "</style>\n",
       "<table border=\"1\" class=\"dataframe\">\n",
       "  <thead>\n",
       "    <tr style=\"text-align: right;\">\n",
       "      <th></th>\n",
<<<<<<< HEAD
       "      <th>Unnamed: 0</th>\n",
=======
>>>>>>> 92cb8a772358e28fa55891737d4e7d218b55d512
       "      <th>budget</th>\n",
       "      <th>domgross</th>\n",
       "      <th>title</th>\n",
       "      <th>Response_Json</th>\n",
       "      <th>Year</th>\n",
       "      <th>imdbRating</th>\n",
       "      <th>Metascore</th>\n",
       "      <th>imdbVotes</th>\n",
       "      <th>Model</th>\n",
       "    </tr>\n",
       "  </thead>\n",
       "  <tbody>\n",
       "    <tr>\n",
       "      <th>0</th>\n",
<<<<<<< HEAD
       "      <td>0</td>\n",
=======
>>>>>>> 92cb8a772358e28fa55891737d4e7d218b55d512
       "      <td>13000000</td>\n",
       "      <td>25682380</td>\n",
       "      <td>21 &amp;amp; Over</td>\n",
       "      <td>0</td>\n",
       "      <td>2008</td>\n",
       "      <td>6.8</td>\n",
       "      <td>48</td>\n",
       "      <td>206513</td>\n",
       "      <td>4.912759e+07</td>\n",
       "    </tr>\n",
       "    <tr>\n",
       "      <th>1</th>\n",
<<<<<<< HEAD
       "      <td>1</td>\n",
=======
>>>>>>> 92cb8a772358e28fa55891737d4e7d218b55d512
       "      <td>45658735</td>\n",
       "      <td>13414714</td>\n",
       "      <td>Dredd 3D</td>\n",
       "      <td>0</td>\n",
       "      <td>2012</td>\n",
       "      <td>0.0</td>\n",
       "      <td>0</td>\n",
       "      <td>0</td>\n",
       "      <td>2.267265e+05</td>\n",
       "    </tr>\n",
       "    <tr>\n",
       "      <th>2</th>\n",
<<<<<<< HEAD
       "      <td>2</td>\n",
=======
>>>>>>> 92cb8a772358e28fa55891737d4e7d218b55d512
       "      <td>20000000</td>\n",
       "      <td>53107035</td>\n",
       "      <td>12 Years a Slave</td>\n",
       "      <td>0</td>\n",
       "      <td>2013</td>\n",
       "      <td>8.1</td>\n",
       "      <td>96</td>\n",
       "      <td>537525</td>\n",
       "      <td>1.626624e+08</td>\n",
       "    </tr>\n",
       "    <tr>\n",
       "      <th>3</th>\n",
<<<<<<< HEAD
       "      <td>3</td>\n",
=======
>>>>>>> 92cb8a772358e28fa55891737d4e7d218b55d512
       "      <td>61000000</td>\n",
       "      <td>75612460</td>\n",
       "      <td>2 Guns</td>\n",
       "      <td>0</td>\n",
       "      <td>2013</td>\n",
       "      <td>6.7</td>\n",
       "      <td>55</td>\n",
       "      <td>173726</td>\n",
       "      <td>7.723381e+07</td>\n",
       "    </tr>\n",
       "    <tr>\n",
       "      <th>4</th>\n",
<<<<<<< HEAD
       "      <td>4</td>\n",
=======
>>>>>>> 92cb8a772358e28fa55891737d4e7d218b55d512
       "      <td>40000000</td>\n",
       "      <td>95020213</td>\n",
       "      <td>42</td>\n",
       "      <td>0</td>\n",
       "      <td>2013</td>\n",
       "      <td>7.5</td>\n",
       "      <td>62</td>\n",
       "      <td>74170</td>\n",
       "      <td>4.151958e+07</td>\n",
       "    </tr>\n",
       "  </tbody>\n",
       "</table>\n",
       "</div>"
      ],
      "text/plain": [
<<<<<<< HEAD
       "   Unnamed: 0    budget  domgross             title  Response_Json  Year  \\\n",
       "0           0  13000000  25682380     21 &amp; Over              0  2008   \n",
       "1           1  45658735  13414714          Dredd 3D              0  2012   \n",
       "2           2  20000000  53107035  12 Years a Slave              0  2013   \n",
       "3           3  61000000  75612460            2 Guns              0  2013   \n",
       "4           4  40000000  95020213                42              0  2013   \n",
       "\n",
       "   imdbRating  Metascore  imdbVotes         Model  \n",
       "0         6.8         48     206513  4.912759e+07  \n",
       "1         0.0          0          0  2.267265e+05  \n",
       "2         8.1         96     537525  1.626624e+08  \n",
       "3         6.7         55     173726  7.723381e+07  \n",
       "4         7.5         62      74170  4.151958e+07  "
      ]
     },
     "execution_count": 1,
=======
       "     budget  domgross             title  Response_Json  Year  imdbRating  \\\n",
       "0  13000000  25682380     21 &amp; Over              0  2008         6.8   \n",
       "1  45658735  13414714          Dredd 3D              0  2012         0.0   \n",
       "2  20000000  53107035  12 Years a Slave              0  2013         8.1   \n",
       "3  61000000  75612460            2 Guns              0  2013         6.7   \n",
       "4  40000000  95020213                42              0  2013         7.5   \n",
       "\n",
       "   Metascore  imdbVotes         Model  \n",
       "0         48     206513  4.912759e+07  \n",
       "1          0          0  2.267265e+05  \n",
       "2         96     537525  1.626624e+08  \n",
       "3         55     173726  7.723381e+07  \n",
       "4         62      74170  4.151958e+07  "
      ]
     },
     "execution_count": 3,
>>>>>>> 92cb8a772358e28fa55891737d4e7d218b55d512
     "metadata": {},
     "output_type": "execute_result"
    }
   ],
   "source": [
    "import pandas as pd\n",
    "from sklearn.preprocessing import MinMaxScaler\n",
    "\n",
    "df = pd.read_excel('./movie_data_detailed_with_ols.xlsx')\n",
    "df.head()"
   ]
  },
  {
   "cell_type": "code",
<<<<<<< HEAD
   "execution_count": 2,
   "metadata": {
    "scrolled": true
   },
=======
   "execution_count": 4,
   "metadata": {},
>>>>>>> 92cb8a772358e28fa55891737d4e7d218b55d512
   "outputs": [
    {
     "name": "stderr",
     "output_type": "stream",
     "text": [
<<<<<<< HEAD
      "/anaconda3/lib/python3.7/site-packages/sklearn/preprocessing/data.py:334: DataConversionWarning: Data with input dtype int64, float64 were all converted to float64 by MinMaxScaler.\n",
=======
      "/opt/conda/envs/learn-env/lib/python3.6/site-packages/sklearn/preprocessing/data.py:323: DataConversionWarning: Data with input dtype int64, float64 were all converted to float64 by MinMaxScaler.\n",
>>>>>>> 92cb8a772358e28fa55891737d4e7d218b55d512
      "  return self.partial_fit(X, y)\n"
     ]
    },
    {
     "data": {
      "text/html": [
       "<div>\n",
       "<style scoped>\n",
       "    .dataframe tbody tr th:only-of-type {\n",
       "        vertical-align: middle;\n",
       "    }\n",
       "\n",
       "    .dataframe tbody tr th {\n",
       "        vertical-align: top;\n",
       "    }\n",
       "\n",
       "    .dataframe thead th {\n",
       "        text-align: right;\n",
       "    }\n",
       "</style>\n",
       "<table border=\"1\" class=\"dataframe\">\n",
       "  <thead>\n",
       "    <tr style=\"text-align: right;\">\n",
       "      <th></th>\n",
       "      <th>domgross</th>\n",
       "      <th>budget</th>\n",
       "      <th>imdbRating</th>\n",
       "      <th>Metascore</th>\n",
       "      <th>imdbVotes</th>\n",
       "    </tr>\n",
       "  </thead>\n",
       "  <tbody>\n",
       "    <tr>\n",
       "      <th>0</th>\n",
       "      <td>0.055325</td>\n",
       "      <td>0.034169</td>\n",
       "      <td>0.839506</td>\n",
       "      <td>0.500000</td>\n",
       "      <td>0.384192</td>\n",
       "    </tr>\n",
       "    <tr>\n",
       "      <th>1</th>\n",
       "      <td>0.023779</td>\n",
       "      <td>0.182956</td>\n",
       "      <td>0.000000</td>\n",
       "      <td>0.000000</td>\n",
       "      <td>0.000000</td>\n",
       "    </tr>\n",
       "    <tr>\n",
       "      <th>2</th>\n",
       "      <td>0.125847</td>\n",
       "      <td>0.066059</td>\n",
       "      <td>1.000000</td>\n",
       "      <td>1.000000</td>\n",
       "      <td>1.000000</td>\n",
       "    </tr>\n",
       "    <tr>\n",
       "      <th>3</th>\n",
       "      <td>0.183719</td>\n",
       "      <td>0.252847</td>\n",
       "      <td>0.827160</td>\n",
       "      <td>0.572917</td>\n",
       "      <td>0.323196</td>\n",
       "    </tr>\n",
       "    <tr>\n",
       "      <th>4</th>\n",
       "      <td>0.233625</td>\n",
       "      <td>0.157175</td>\n",
       "      <td>0.925926</td>\n",
       "      <td>0.645833</td>\n",
       "      <td>0.137984</td>\n",
       "    </tr>\n",
       "  </tbody>\n",
       "</table>\n",
       "</div>"
      ],
      "text/plain": [
       "   domgross    budget  imdbRating  Metascore  imdbVotes\n",
       "0  0.055325  0.034169    0.839506   0.500000   0.384192\n",
       "1  0.023779  0.182956    0.000000   0.000000   0.000000\n",
       "2  0.125847  0.066059    1.000000   1.000000   1.000000\n",
       "3  0.183719  0.252847    0.827160   0.572917   0.323196\n",
       "4  0.233625  0.157175    0.925926   0.645833   0.137984"
      ]
     },
<<<<<<< HEAD
     "execution_count": 2,
=======
     "execution_count": 4,
>>>>>>> 92cb8a772358e28fa55891737d4e7d218b55d512
     "metadata": {},
     "output_type": "execute_result"
    }
   ],
   "source": [
    "# Only keep four predictors and transform the with MinMaxScaler\n",
    "\n",
    "scale = MinMaxScaler()\n",
    "df = df[[ \"domgross\", \"budget\", \"imdbRating\", \"Metascore\", \"imdbVotes\"]]\n",
    "transformed = scale.fit_transform(df)\n",
    "pd_df = pd.DataFrame(transformed, columns = df.columns)\n",
    "pd_df.head()"
   ]
  },
  {
   "cell_type": "code",
   "execution_count": null,
   "metadata": {},
   "outputs": [],
   "source": []
  },
  {
   "cell_type": "code",
   "execution_count": 3,
   "metadata": {},
   "outputs": [],
   "source": [
    "from sklearn.linear_model import LinearRegression\n",
    "from sklearn.model_selection import train_test_split\n",
    "import matplotlib.pyplot as plt\n",
    "from sklearn.preprocessing import PolynomialFeatures\n",
    "import numpy as np"
   ]
  },
  {
   "cell_type": "markdown",
   "metadata": {},
   "source": [
    "## Split the data into a test and train set"
   ]
  },
  {
   "cell_type": "code",
<<<<<<< HEAD
   "execution_count": 4,
   "metadata": {},
   "outputs": [],
   "source": [
    "X = pd_df.drop(columns=(\"domgross\"))\n",
    "y = pd_df[\"domgross\"]"
=======
   "execution_count": 5,
   "metadata": {},
   "outputs": [],
   "source": [
    "from sklearn.model_selection import train_test_split"
>>>>>>> 92cb8a772358e28fa55891737d4e7d218b55d512
   ]
  },
  {
   "cell_type": "code",
<<<<<<< HEAD
   "execution_count": 5,
   "metadata": {},
   "outputs": [],
   "source": [
    "X_train, X_test, y_train, y_test = train_test_split(X, y, test_size=0.30, random_state=42)"
   ]
  },
  {
   "cell_type": "code",
   "execution_count": 6,
   "metadata": {},
   "outputs": [
    {
     "data": {
      "text/plain": [
       "(21, 4)"
      ]
     },
     "execution_count": 6,
     "metadata": {},
     "output_type": "execute_result"
    }
   ],
   "source": [
    "X_train.shape"
=======
   "execution_count": 6,
   "metadata": {},
   "outputs": [],
   "source": [
    "X = pd_df.drop(columns=[\"domgross\"])\n",
    "y = pd_df[\"domgross\"]\n",
    "X_train, X_test, y_train, y_test = train_test_split(X, y, random_state = 42)"
>>>>>>> 92cb8a772358e28fa55891737d4e7d218b55d512
   ]
  },
  {
   "cell_type": "markdown",
   "metadata": {},
   "source": [
    "## Fit a regression model to the training data and look at the coefficients"
   ]
  },
  {
   "cell_type": "code",
   "execution_count": 7,
   "metadata": {},
   "outputs": [
    {
     "data": {
      "text/plain": [
       "LinearRegression(copy_X=True, fit_intercept=True, n_jobs=None,\n",
       "         normalize=False)"
      ]
     },
     "execution_count": 7,
     "metadata": {},
     "output_type": "execute_result"
    }
   ],
   "source": [
<<<<<<< HEAD
    "reg = LinearRegression()\n",
    "reg.fit(X_train, y_train)"
=======
    "from sklearn.linear_model import LinearRegression"
>>>>>>> 92cb8a772358e28fa55891737d4e7d218b55d512
   ]
  },
  {
   "cell_type": "code",
   "execution_count": 8,
<<<<<<< HEAD
   "metadata": {
    "scrolled": true
   },
   "outputs": [
    {
     "name": "stdout",
     "output_type": "stream",
     "text": [
      "[ 0.48620508 -0.2343413   0.33386937  0.15382805]\n"
     ]
    }
   ],
   "source": [
    "print(reg.coef_)"
=======
   "metadata": {},
   "outputs": [],
   "source": [
    "reg1 = LinearRegression()\n",
    "\n",
    "model1 = reg1.fit(X_train, y_train)"
   ]
  },
  {
   "cell_type": "code",
   "execution_count": 9,
   "metadata": {},
   "outputs": [],
   "source": [
    "y_hat_train = model1.predict(X_train)"
>>>>>>> 92cb8a772358e28fa55891737d4e7d218b55d512
   ]
  },
  {
   "cell_type": "markdown",
   "metadata": {},
   "source": [
    "## Plot the training predictions against the actual data (y_hat_train vs. y_train)"
   ]
  },
  {
   "cell_type": "markdown",
   "metadata": {},
   "source": [
    "Let's plot our result for the train data. Because we have multiple predictors, we can not simply plot the income variable X on the x-axis and target y on the y-axis. Lets plot \n",
    "- A line showing the diagonal of y_train. The actual y_train values are on this line\n",
    "- Next, make a scatter plot that takes the actual y_train on the x-axis and the predictions using the model on the y-axis. You will see points scattered around the line. The horizontal distances between the points and the lines are the errors."
   ]
  },
  {
   "cell_type": "code",
<<<<<<< HEAD
   "execution_count": 9,
   "metadata": {},
   "outputs": [
    {
     "name": "stdout",
     "output_type": "stream",
     "text": [
      "0.4554382106403003\n"
     ]
    },
    {
     "data": {
      "image/png": "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\n",
      "text/plain": [
       "<Figure size 720x432 with 1 Axes>"
=======
   "execution_count": 10,
   "metadata": {},
   "outputs": [
    {
     "data": {
      "image/png": "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\n",
      "text/plain": [
       "<Figure size 576x360 with 1 Axes>"
>>>>>>> 92cb8a772358e28fa55891737d4e7d218b55d512
      ]
     },
     "metadata": {
      "needs_background": "light"
     },
     "output_type": "display_data"
    }
   ],
   "source": [
    "import matplotlib.pyplot as plt\n",
    "%matplotlib inline\n",
    "\n",
<<<<<<< HEAD
    "print(reg.score(X_train, y_train))\n",
    "\n",
    "plt.figure(figsize = (10, 6))\n",
    "plt.plot(y_train, y_train, color=\"blue\", label = \"Actual Y Values\")\n",
    "plt.scatter(y_train, reg.predict(X_train), color=\"red\", label=\"Modeled Y Values\")\n",
    "plt.title(\"Plotting Training Predictions Against Data\")\n",
    "plt.legend()\n",
=======
    "plot_y_train = LinearRegression().fit(y_hat_train.reshape(-1,1), \n",
    "                                      y_train).predict(y_hat_train.reshape(-1,1))\n",
    "\n",
    "plt.figure(figsize=(8,5))\n",
    "plt.scatter(y_hat_train, y_train)\n",
    "plt.plot(y_hat_train, plot_y_train)\n",
>>>>>>> 92cb8a772358e28fa55891737d4e7d218b55d512
    "plt.show()"
   ]
  },
  {
   "cell_type": "markdown",
   "metadata": {},
   "source": [
    "## Plot the test predictions against the actual data (y_hat_test vs. y_test)"
   ]
  },
  {
   "cell_type": "markdown",
   "metadata": {},
   "source": [
    "Do the same thing for the test data."
   ]
  },
  {
   "cell_type": "code",
<<<<<<< HEAD
   "execution_count": 10,
   "metadata": {
    "scrolled": false
   },
   "outputs": [
    {
     "name": "stdout",
     "output_type": "stream",
     "text": [
      "0.2086147445884002\n"
     ]
    },
    {
     "data": {
      "image/png": "iVBORw0KGgoAAAANSUhEUgAAAlYAAAF1CAYAAAAqdaQaAAAABHNCSVQICAgIfAhkiAAAAAlwSFlzAAALEgAACxIB0t1+/AAAADl0RVh0U29mdHdhcmUAbWF0cGxvdGxpYiB2ZXJzaW9uIDMuMC4zLCBodHRwOi8vbWF0cGxvdGxpYi5vcmcvnQurowAAIABJREFUeJzt3Xd8VGXa//HPFYoxFJViowULCgICZlFAARs/bKiLBRYV22J58NFVV91lLavirqzt8ZFHZV3FEkFAQV0LKooIrkiVBaSJCURBqixIJ/fvj3vCzISETJJJzpTv+/XyBfc9Z85cMwfI1/s6c4455xARERGRyssIugARERGRVKFgJSIiIhInClYiIiIicaJgJSIiIhInClYiIiIicaJgJSIiIhInClYigJlNNrPr47i/58zs3njtr7qZ2Vlm9k3QdZSXmWWamTOzpqHxSDO7qwL7OcDMtpjZkfGvsvqZWSsz+znoOkTSgYKVpA0zyzOzbaEfmD+Z2UtmVrec+8gO/eCuGTF3tZlNjdzOOXejc+6heNUeep3TQrVvMbNfQnVsifiveQX3GxVGAJxznzjnToxf9VGv95WZbQ/VvNbMxprZoVXxWs65q51zw2Ks6YqI5+1wztV1zv1YFXWVUcuNoePRJ177dM4tcc4dXNn9FP+cSnj8+GJ/Lleb2Ttmdno5XuNGM/uksrWKBEXBStLNBc65ukAn4FfAnwKuJ2bOuS9CP+zrAieEpg8umnPOrQiyvnK6PvQ+WgOHAyWGHzOrUa1VJYaBwIbQr8loT8Sf047AFOCfZtYv4LpEqoWClaQl59wPwAdA2+KPmVmGmf3JzPLNbI2ZvWJmB4UenhL69efQ/5F3AZ4DuoTGP4f2MdLMHg79vqeZFZjZHaH9rTKzayJer6GZvWtm/zGzGWb2cPEVsFiZWYNQvavNbKWZ3W9mGaHHjjezqWa2KbRS9Eqx97Q49B4uMrPeZrYsYr+rzex3ZjY/9PxcM6sd8fifQquABWY2qPgKWGmcc+uACYSOg5mNNrOnzewjM/sl9LkeaGZPhd7PajP7XzM7IOK1hxS9NhC1mhLa358ixpea2bzQZ73UzM40s8fxIfuF0Pt/vPgqXuhzfT30uX1vZneZmYUeu9HMJoXq/tnMvjOzsyJe87fmV0s3m9lyM7t0P8evFXAycANwvpk1KPZ4qZ+zmV1sZt+E3lu+mf0x4nnHm9nuiPFXoT8bX4W2f9/MDgk9Vif0uW0IvZ/pZnZISZ9TDMd3lXPuMeAvwN8iXv++0Oe4OfRn6rzQfEfgKaBn6DVWl/XeRBKNgpWkJTNrBpwLzCnh4atD/50OHAXUBZ4JPdY99GvRStG/gBuBf4XGpbVbDgcOApoA1wHDi36QAcOBX0LbDKRyKxW5wKZQ3Z2Bi4ArQ4/9BR9iDgaaA88Xe0/Hhd7DhFL2fQlwJnAM/of/bwDM7CL8Z9AdOA44q5Tn78N8C/Bioo/DFcC9QD1gBvAk0BRoF9p/K+CeiNe+GegBHA+cs5/XOg0YAdyK/wzOBFY65+4Ivc71ofd/RwlPfw6oBbQEzgZuKnr/Id2BmUBD/J+VF0KveQg+UJzpnKsHnAbM389HMhCY6pwbB+QDe1d5Yvic/xOq6WD8Z3qnmfXez2v9BhgAHBF6zq2h+euBmvg/q42AwcDOGD+n0rwFNDWzlqHxYqAr/u/Eo8BoM2vknJsD3AZMDr3G4RV8byKBUbCSdDPB/KrSVOBz4JESthkAPOGcW+6c2wL8AehnEedVVcAu4EHn3C7n3PvAFuA4862uvsD9zrmtzrmFwMsVeQEza4H/oXt7aF+rgKcJ/3DeBWQDhzvntjnnppXzJZ50zv3knFsLvA90CM1fBvzdObfYOfcL8GAM+3o+dBxmA98Bd0c8Ns45N905VwjsAa4FbnXO/eyc2wT8NeI9Fb32otCx+vN+XvN64Dnn3GfOuULn3Arn3JKyCg2tjvUF7nbObXHOLcOvqlwZsdli59wrzrk9+OPXwswiQ3ZbM8t0zv3gnPu2lNfJCO3z9dDUKKJD9n4/Z+fcJOfcgtB7mw2MwQfO0vzdOfddaF/jCB/PXUBj4Gjn3G7n3IzQNpVRdK5ag1Ctb4RWswqdc68CPwAnlfbkCrw3kcAoWEm6ucg5d7BzroVz7mbn3LYStjkSv1pQJB//f/CHVeJ11zvndkeMt+JXwhqH9r0y4rHI35dHCyATWBtq4fwM/A/hun8HZAFzQu2wUk9CLsXqiN8X1Q/+8ypv/TeEjkNT59xA59yGUp5/JH6laEHEe5oAHBrxeOT2kcetuGb4EFdeh+P/rYw8hy0fv6JTpPhnA1DXObcRH9T/Gyg6kfuYUl7n9NBrjQ2Nc4HOZnZ8aLzfz9nMupnZ56F25Sb8qmuj/byv0o7nP/D/0zEu1HJ8xCp/rlvRZ7UhVOt1oT+DRcf0mP3VWoH3JhIYBSuRff2IDylFmgO7gZ8AV8L2Jc3Fam1o35HnIzWr4L5W4lfCDgmFloOdc/Wdc53An1fmnLsW3/r5b+BF898krEz9AKuIT/1FIutZhf98jo54Twc55xpGPB75evv7ZuRK4OgYXrO41UBhsX03x6+ylMk5955z7kx8MFoBPFvKpgPx/yYvCJ1bNCVU11Whx8v6nMcAbwDNnHMHASMBi6XGYvXucM7d55w7Hr8CeinhFcKK/lm5GChwzn0fOo/sf4FBQINQ+3xZRK0lvUZc3ptIdVCwEtnXKOB3ZtbS/OUYHgHeCK04rcX/kD0qYvuf8OeP1N53V/sXah29BTxgZlmh1Ymrynhaafv6HvgKGGZm9cyfhH+smZ0KYGaXm9mRzjkHFF3TaLdzbgfh87IqYgxwfei16hDHb1o653YBLwL/Y2aNzGtmZmcXe+1WoWN133529wJwg5l1D302zUI/5MEfwxLff+jzGQ88Ejqx+2j8+UivlVW/mTUxs/PMLAvYgQ++e0rYri7wa/xKTIeI/+4Ergy1CUv9nM3M8CtO651z282sKz4QlZv5a5i1Cb3mf/DBtqjmUj+nUvZ1uJn9Dt9Ovyc0XRf/d2gtkGFmN+JXrIr8BDQzs1rxfm8i1UHBSmRfLwKv4lcMvge2A7cAOOe2AkOBaaE2xinAp8ACfKtnXQVebzD+JN7Vodcdhf8hXBH98Sf4LsK3Xd4g3ArsAswysy34dtOgiOs03QeMDb2ncl0/yTk3Ht8+mgYsAb4IPVTR91DcbfhVxJn4APghoR/EodceEXrNRcDE/dT5Bf7k7/8L7WcS4RWgJ4GrzGyjmZV06YcbQr/m44/3C/hWXVlq4EPFamA9/lt1t5Sw3SX44zXKObe66L/Qe6sPnLG/zzkUlm8EHjOzzcBdhFuK5dUEeBvYjD/R/n18qIOyPyeAGqFv9P0CfIP/ksCFzrlcgNA5Us/hj+cq/BcCZkY8/0MgD1hjZgVxfm8iVc78n1kRSRRm9ij+BPOkvI5R6Cvz/wIOdPoHpsrocxZJTFqxEgmY+WsMtQ+1uTrjL8cwPui6ysPMfm1mtc2sEaHLOuiHffzpcxZJfApWIsGrhz/P6hd8y+VxfCsmmfw3sA5/faLNobHEnz5nkQSnVqCIiIhInGjFSkRERCROFKxERERE4qQyt+iolEaNGrns7OygXl5EREQkZrNmzVrnnGtc1naBBavs7GxmzpxZ9oYiIiIiATOz/d0yay+1AkVERETiRMFKREREJE4UrERERETiJLBzrEqya9cuCgoK2L59e9ClSBXLzMykadOm1KpVK+hSRERE4iahglVBQQH16tUjOzsbf0NzSUXOOdavX09BQQEtW7YMuhwREZG4SahW4Pbt22nYsKFCVYozMxo2bKiVSRERSTkJFawAhao0oeMsIiKpKOGCVSIYP348ZsaiRYvK3HbkyJH8+OOPFX6tyZMnc/7550fNrVmzhpYtW7J69eq9czfffDN//etfo7Zr2bIlixcvjpq77bbbGDZsWKmvl5eXR9u2bStcr4iIiJROwaoEo0aN4tRTT2X06NFlblvZYFWSQw89lLvvvps777wTgNmzZzN16lTuuOOOqO369esXVWNhYSHjxo3j8ssvj2s9IiIiEhsFq2K2bNnCtGnT+Mc//rFPsBo2bBjt2rXjxBNP5J577mHcuHHMnDmTAQMG0KFDB7Zt20Z2djbr1q0DYObMmfTs2ROAr7/+mq5du9KxY0e6du26z0pTcYMGDeK7777js88+Y/DgwTzzzDP7fIOuf//+UTVOmTKF7OxsWrRoQV5eHqeddhqdOnWiU6dOfPnll/u8xsiRIxk8ePDe8fnnn8/kyZMB+Oijj+jSpQudOnXi0ksvZcuWLQDcc889tGnThvbt2+8NfiIiIuIl1LcCI912G8ydG999dugATz21/20mTJhA7969adWqFQ0aNGD27Nl06tSJDz74gAkTJjB9+nSysrLYsGEDDRo04JlnnuGxxx4jJydnv/s9/vjjmTJlCjVr1uSTTz7hj3/8I2+++Wap22dkZPDss89yxhln0KdPH7p3777PNu3btycjI4NvvvmGE088kdGjR9O/f3/Ar3p9/PHHZGZmsnTpUvr37x/zLYTWrVvHww8/zCeffEKdOnV49NFHeeKJJxg8eDDjx49n0aJFmBk///xzTPsTERFJFwkbrIIyatQobrvtNsC32kaNGkWnTp345JNPuOaaa8jKygKgQYMG5drvpk2bGDhwIEuXLsXM2LVrV5nP6dChA23btuXmm28udZuiVasTTjiBt99+mwcffBDw1wQbPHgwc+fOpUaNGixZsiTmWr/66isWLlxIt27dANi5cyddunShfv36ZGZmcv3113Peeeftc26YiIhIdXj/fejSBQ45JOhK9pWwwaqslaWqsH79ej799FPmz5+PmbFnzx7MjGHDhuGci+mbbDVr1qSwsBAg6nIC9957L6effjrjx48nLy9vb4uwLBkZGWRklN6x7d+/P7169aJHjx60b9+eQw89FIAnn3ySww47jG+++YbCwkIyMzP3W2tkvc45zj77bEaNGrXPc77++msmTZrE6NGjeeaZZ/j0009jeh8iIiKV9cUXUNTAOe88+Oc/g62nJDrHKsK4ceO46qqryM/PJy8vj5UrV9KyZUumTp1Kr169ePHFF9m6dSsAGzZsAKBevXps3rx57z6ys7OZNWsWQFSrb9OmTTRp0gTw5zbFy9FHH03Dhg2555579rYBi17viCOOICMjg1dffZU9e/bs89zs7Gzmzp1LYWEhK1eu5OuvvwbglFNOYdq0aSxbtgyArVu3smTJErZs2cKmTZs499xzeeqpp5gb716tiIhICTZuhFq1wqEqKwti+H5ZIBSsIowaNYqLL744aq5v3768/vrr9O7dmz59+pCTk0OHDh147LHHALj66qu58cYb9568fv/993Prrbdy2mmnUaNGjb37ueuuu/jDH/5At27dSgw5ldG/f38WLVoUVfvNN9/Myy+/zCmnnMKSJUuoU6fOPs/r1q0bLVu2pF27dtx555106tQJgMaNGzNy5Ej69+9P+/btOeWUU1i0aBGbN2/m/PPPp3379vTo0YMnn3wyru9DREQkknNw3XXQoAHs3u3npk6FX36BunWDra005pwL5IVzcnJc8ZOpv/32W1q3bh1IPVL9dLxFRKQ0774LffqEx3/6Ezz0UHD1mNks59z+v6lGAp9jJSIiIuln1So48sjwODsbFi6EAw8MrKRyUStQREREAldYCBdcEB2q5s2D779PnlAFClYiIiISsNdegxo1wt/ye/JJf35Vu3bB1lURagWKiIhIIJYvh6OPDo87d/Ynpxe70UhSUbASERGRarVrF5x6KoSu8gPAsmXRIStZqRUoIiIi1ebpp6F27XCoeuUV3/ZLhVAFClb7MDOuvPLKvePdu3fTuHHjct++JfJmzJXZJlLxmyYDLFiwgFatWrFt27a9c+edd17UzZl/+eUXGjZsyKZNm6Kee9FFFzFmzJhSX2/y5Mm6bY2IiMTFvHlgBrfe6sfnnw979kDEj9yUoGBVTJ06dZg/f/7eoPLxxx/vvWJ6IjrhhBP49a9/zdChQwF/E+ldu3bRr1+/vdvUqVOHXr16MWHChL1zmzZtYurUqQpOIiJSpbZtg6OOghNPDM/9+KO/TtV+7tiWtJL7LeXm+gtcZGT4X3Nz47Lbc845h/feew/wV2OPvFXMhg0buOiii/ZekXzevHmAv89gr1696NixIzfccAORF1597bXX6Ny5Mx06dOCGG24o8crrpW3z0ksv0apVK3r06MG0adNKrPe+++5j7NixzJ07l3vuuYfhw4fvs03RzZqLjB8/nt69e5OVlcXXX39N165d6dixI127dmXx4sX7PP+BBx7Ye7V5gLZt25KXl1dq7Xv27OHqq6+mbdu2tGvXTldpFxFJQ/fd528/8/33fvz2277td8QRwdZVlZI3WOXmwqBBkJ/vj1J+vh/HIVz169eP0aNHs337dubNm8fJJ5+897H777+fjh07Mm/ePB555BGuuuoqAP785z9z6qmnMmfOHPr06cOKFSsAf3XxN954g2nTpjF37lxq1KhBbrEaS9tm1apV3H///UybNo2PP/6YhQsXllhvVlYWjz32GN27d6dfv34ce+yx+2zTu3dvZs2axfr16wEYPXr03sB4/PHHM2XKFObMmcODDz7IH//4x5g/q9Jqnzt3Lj/88APz58/n3//+N9dcc03M+xQRkeT25Ze+7Vd0pfRrr/XXqYq8knqqSt5vBQ4ZAqEbIu+1daufHzCgUrtu3749eXl5jBo1inPPPTfqsalTp+69ufIZZ5zB+vXr2bRpE1OmTOGtt94C/DlOhxxyCACTJk1i1qxZ/OpXvwJg27ZtHHrooVH7LG2b6dOn07NnTxo3bgzA5ZdfzpIlS0qs+YILLuDggw/m5ptvLvHx2rVr06dPH8aNG0ffvn2ZO3cuvXr1AnxbcODAgSxduhQzY9euXTF/VqXVfsEFF7B8+XJuueUWzjvvvL2vJSIiqWvTJn+Bz6IfzzVrwpo1EPqRmBaSN1iFVoRini+nPn36cOeddzJ58uS9qzwAJd1b0cyifo3knGPgwIH85S9/KfW1SttmwoQJJe6zNBkZGWTsp2Hdv39/Hn74YZxzXHjhhdQKXSjk3nvv5fTTT2f8+PHk5eXRs2fPfZ5bs2ZNCgsL9463b99e5vv75ptvmDhxIsOHD2fMmDG8+OKLMb8XERFJLjfdBM89Fx5//jl07x5cPUFJ3lZg8+blmy+na6+9lvvuu492xS772r17972tvMmTJ9OoUSPq168fNf/BBx+wceNGAM4880zGjRvHmjVrAH+OVn5+ftQ+S9vm5JNP3hvsdu3axdixYyv1nk4//XSWLl3K8OHDo84b27Rp094T9EeOHFnic7Ozs5k9ezYAs2fP5vtQw7y02tetW0dhYSF9+/bloYce2vtcERFJLR984Nt+RaHq7rv9GTrpGKogmVeshg7151RFtgOzsvx8HDRt2pRbi74TGuGBBx7gmmuuoX379mRlZfHyyy8D/tyr/v3706lTJ3r06EHzUMBr06YNDz/8ML169aKwsJBatWoxfPhwWrRosXefpW1zyimn8MADD9ClSxeOOOIIOnXqVOKJ77HKyMigb9++jB07lu4Rf+LvuusuBg4cyBNPPMEZZ5xR4nP79u3LK6+8QocOHfjVr35Fq1at9lv7gQceyDXXXLN3lWt/K3YiIpJ81qyBww4Lj488EpYsgTp1gqspEVhJra3qkJOT42bOnBk19+2339K6devYd5Kb68+pWrHCr1QNHVrp86uk+pT7eIuISOCcg0sugdBpxQDMng0dOwZXU3Uws1nOuZyytkveViD4EJWX579qkJenUCUiIlKFRo/2VzgqClXDhvmgleqhqjyStxUoIiIi1SI/318uskiHDjB9ur81jURL7hUrERERqTK7d8Npp0WHqsWLYc4charSJFywCuqcL6leOs4iIont2WehVi2YOtWP//EP3/YLfXdJSpFQrcDMzEzWr19Pw4YNy3X9JkkuzjnWr19PZmZm0KWIiEgxCxfCCSeEx716+UsqpOJ9/apCQgWrpk2bUlBQwNq1a4MuRapYZmYmTZs2DboMEREJ2bHD3yg58naxBQUQusyhxCihglWtWrVo2bJl0GWIiIiklYcfhnvvDY/fegsuvji4epJZQgUrERERqT5ffw0nnxweX3EFvPKKv5K6VIyClYiISJrZvNlfV/vnn8Nz69ZBw4bB1ZQqdCqaiIhIGrn1VqhfPxyqJk3y3/ZTqIoPBSsREZE08PHHvsX39NN+/Lvf+UBVyi1ipYLUChQREUlh69ZB48bhcePGsHw51K0bXE2pTCtWIiIiKcg56N8/OlTNmAFr1ihUVSUFKxERkRTz5pv+gp6jR/vx0KE+aOXkBFtXOlArUEREJEWsXOm/7VekTRuYPRsOOCC4mtKNVqxERESS3J49cOaZ0aFq4UJYsEChqropWImIiCSxF16AmjXh00/9+LnnfNuvdetg60pXagWKiIgkocWL4fjjw+OePeGTT6BGjcBKEhSsREREksrOnXDSSTB/fnguPz+6DSjBUStQREQkSTz6qD9nqihUvfGGb/spVCUOrViJiIgkuNmz/SpVkcsu85dS0M2SE4+ClYiISIL65Rc46ih/Uc8ia9ZEX/RTEotagSIiIgno97/3V0gvClUTJ/q2n0JVYospWJlZbzNbbGbLzOyeEh5vbmafmdkcM5tnZufGv1QREZHU99lnvsX32GN+/F//5QNVr17B1iWxKbMVaGY1gOHA2UABMMPM3nHOLYzY7E/AGOfcs2bWBngfyK6CekVERFLShg3QsGF4fNBBsGIF1K8fXE1SfrGsWHUGljnnljvndgKjgQuLbeOAokN/EPBj/EoUERFJXc7BwIHRoepf/4Kff1aoSkaxBKsmwMqIcUFoLtIDwBVmVoBfrbqlpB2Z2SAzm2lmM9euXVuBckVERFLH22/7myW/8oofP/CAD1qnnBJoWVIJsXwrsKQvc7pi4/7ASOfc42bWBXjVzNo65wqjnuTcCGAEQE5OTvF9iIiIpIUff4QmEUsUxxwD//43ZGYGV5PERywrVgVAs4hxU/Zt9V0HjAFwzv0LyAQaxaNAERGRVFFYCOecEx2q5s+HpUsVqlJFLMFqBnCsmbU0s9pAP+CdYtusAM4EMLPW+GClXp+IiEjIyJH+Pn4ffujH//u/vu13wgmBliVxVmYr0Dm328wGAxOBGsCLzrkFZvYgMNM59w5wB/B3M/sdvk14tXNOrT4REUl7y5bBsceGx127wuefQ01dojslxXRYnXPv409Kj5y7L+L3C4Fu8S1NREQkee3a5U9Cnz07PPf995CdHVhJUg105XUREZE4e+IJqF07HKpyc33bT6Eq9WkhUkREJE6++QY6dAiPL7oI3npLN0tOJwpWIiIilbR1Kxx3HBQUhOdWrYLDDw+uJgmGWoEiIiKV8Mc/Qp064VD13nu+7adQlZ60YiUiIlIBX3wB3buHx4MGwXPPqe2X7hSsREREyuHnn+Gww2DnTj8+8EDf9jvooGDrksSgVqCIiEgMnIPrr4dDDgmHqqlT/flVClVSRMFKRESkDO+952+W/I9/+PGQIT5oddMVHKUYtQJFRERKsXo1HHFEeNy8OXz7LWRlBVeTJDatWImIiBRTWAgXXhgdqubOhfx8hSrZPwUrERGRCK+95m+W/M47fvzEE77td+KJwdYlyUGtQBEREWD5cjj66PA4Jwe+/BJq1QquJkk+WrESEZG0tnu3v1lyZKhatgxmzFCokvJTsBIRkbT1zDM+PE2f7scjR/q2X2TIEikPtQJFRCTtzJ8P7dqFx+eeC+++6y+pIFIZClYiIpI2tm+HE07w51MV+eEHOPLI4GqS1KJsLiIiaeGBB/ztZ4pC1dtv+7afQpXEk1asREQkpf3rX9C1a3h89dXw4ou6WbJUDQUrERFJSf/5DzRpAlu2+HGNGrB2rb/Xn0hVUStQRERSzs03+xsjF4WqyZP9ZRUUqqSqKViJiEjKmDjRt/iefdaPf/97fx5Vjx7B1iXpQ61AERFJemvWwGGHhceHH+4v8lmnTnA1SXrSipWIiCQt5+DSS6ND1axZsGqVQpUEQ8FKRESS0htv+At6jhvnx48+6oNWp07B1iXpTa1AERFJKvn5kJ0dHp94Inz9NdSuHVhJIntpxUpERJLCnj3QvXt0qFq8GObOVaiSxKFgJSIiCe+556BmTfjiCz9+4QXf9mvVKti6RIpTK1BERBLWt99Cmzbh8VlnwYcf+ot9iiQiBSsREUk4O3ZAhw6waFF4buVKaNo0uJpEYqFWoIiIJJShQyEzMxyq3nzTt/0UqiQZaMVKREQSwtdfw8knh8e/+Q289ppulizJRcFKREQCtXmz/6bfhg3huXXroGHDwEoSqTC1AkVEJDC33Qb164dD1Sef+LafQpUkKwUrERGpdpMm+Rbf//yPH996qw9UZ54ZbF0ilaVWoIiIVJv166FRo/C4QQPIy4N69QIrSSSutGIlIiJVzjkYMCA6VH39tQ9aClWSShSsRESkSr35pr9Z8uuv+/HDD/ug9atfBVuXSFVQK1BERKpEQQE0axYet24Nc+bAAQcEV5NIVdOKlYiIxNWePf7WM5GhauFC/59ClaQ6BSsREYmbF17wN0ueNMmPn33Wt/1atw62LpHqolagiIhU2pIlcNxx4XH37vDpp7pZsqQfBSsREamwnTv9Sejz5oXn8vKgRYvAShIJlFqBIiJSIcOG+XOmikLV6NG+7adQJelMK1YiIlIus2fDSSeFx5dcAmPG6GbJIqBgJSIiMfrlFzjmGFi9Ojy3Zg00bhxcTSKJRq1AEREp0+9/D3XrhkPVhx/6tp9ClUg0rViJiEipPv8cevYMj2+6Cf7v/wIrRyThKViJiMg+Nm709/UrLPTjunX9ldQPOijYukQSnVqBIiKyl3NwzTXQoEE4VH35JWzerFAlEgsFKxERAeCdd/zNkkeO9OP77vNBq0uXQMsSSSpqBYqIpLkff4QmTcLjo4+G+fMhMzO4mkTDX4TkAAAcmElEQVSSlVasRETSVGEhnHtudKj6979h2TKFKpGKUrASEUlDL7/s7+P3wQd+/PTTvu3Xtm2wdYkkO7UCRUTSyHff+Yt8FjnlFPjiC6ipnwYicaG/SiIiaWDXLujaFWbODM8tXw4tWwZXk0gqUitQRCTFPfkk1K4dDlWvvebbfgpVIvGnFSsRkRT1zTfQoUN43KcPjB/vL6kgIlUjpr9eZtbbzBab2TIzu6eUbS4zs4VmtsDMXo9vmSIiEqtt26B58+hQtWoVvP22QpVIVSvzr5iZ1QCGA+cAbYD+Ztam2DbHAn8AujnnTgBuq4JaRUSkDEOGQFYWrFzpx//8p2/7HX54sHWJpItYWoGdgWXOueUAZjYauBBYGLHNb4HhzrmNAM65NfEuVERESjd1Kpx2Wnh8/fUwYgSYBVeTSDqKJVg1AVZGjAuAk4tt0wrAzKYBNYAHnHMfFt+RmQ0CBgE0b968IvWKiEiETZv8atT27X5cuzb89BMcfHCwdYmkq1i67SX9/44rNq4JHAv0BPoDL5jZPn+tnXMjnHM5zrmcxo0bl7dWEREJcQ5uuMEHqKJQNWUK7NihUCUSpFiCVQHQLGLcFPixhG3eds7tcs59DyzGBy0REYmz99/3J6GPGOHHf/iDD1qRrUARCUYsrcAZwLFm1hL4AegH/KbYNhPwK1UjzawRvjW4PJ6Fioiku59+ij4JvVkzWLTIn6wuIomhzBUr59xuYDAwEfgWGOOcW2BmD5pZn9BmE4H1ZrYQ+Az4vXNufVUVLSKSTpyDiy6KDlVz58KKFQpVIonGnCt+ulT1yMnJcTMj760gIiL7yM2FK64Ijx9/HG6/Pbh6RNKVmc1yzuWUtZ2uvC4ikoDy8qJvOdOpE3z1FdSqFVhJIhIDXYNXRCSB7N4N3bpFh6qlS2HWLIUqkWSgYCUikiCeecaHpy+/9OOXXvLnVx1zTLB1iUjs1AoUEQnY/PnQrl14fM45/lY0uq+fSPJRsBIRCcj27dC2LXz3XXjuhx/gyCODq0lEKkf/PyQiEoAHHoADDwyHqgkTfNtPoUokuWnFSkSkGn31FXTpEh5fdRWMHKmbJYukCgUrEZFq8J//QNOmsHlzeG79emjQILiaRCT+1AoUEalit9wCBx0UDlWffebbfgpVIqlHwUpEpIp89JFv8T3zjB/fcYcPVD17BlqWiFQhtQJFROJs7Vo49NDw+LDD/EnqdeoEV5OIVA+tWImIxIlzcNll0aFq5kxYvVqhSiRdKFiJiMTBmDH+gp5jx/rxX/7ig9ZJJwVbl4hUL7UCRUQqYcUKaNEiPG7Xzq9S1a4dXE0iEhytWImIVMCePXD66dGhatEimDdPoUoknSlYiYiU0/PPQ82aMHmyH48Y4dt+xx0XaFkikgDUChQRidGiRdC6dXh85pkwcSLUqBFcTSKSWBSsRETKsGMHdOwI334bnluxApo1C64mEUlMagWKiOzHI49AZmY4VI0d69t+ClUiUhKtWImIlGDGDOjcOTzu1w9ef103SxaR/VOwEhGJsGULZGf7GyQXWbsWGjUKrCQRSSJqBYqIhNx+O9SrFw5VH3/s234KVSISK61YiUja+/RT/w2/IrfcAk8/HVw9IpK8FKxEJG2tXx+9GnXIIZCf71etREQqQq1AEUk7zsEVV0SHqunTYcMGhSoRqRwFKxFJK2+95W+WnJvrxw8+6INW5DcARUQqSq1AEUkLP/wATZuGx8cdB3Pn+mtUiYjEi1asRCSlFRZCr17RoWrBAn97GoUqEYk3BSsRSVkvvujv4/fxx348fLhv+7VpE2xdIpK61AoUkZSzdCm0ahUen3aav6RCTf2LJyJVTP/MiEjK2LnTn4T+zTfhubw8aNEisJJEJM2oFSgiKeFvf4MDDgiHqlGjfNtPoUpEqpNWrEQkqc2ZA506hcd9+8LYsbpZsogEQ8FKRJLS1q1wzDGwalV47qef4NBDg6tJREStQBFJOnffDXXqhEPVBx/4tp9ClYgETStWIpI0pkyBHj3C4xtvhGefDa4eEZHiFKxEJOFt3AiNG8OePX5cp46/kvpBBwVbl4hIcWoFikjCcg6uvRYaNAiHqmnTYMsWhSoRSUwKViKSkN59198s+aWX/Pjee33Q6to12LpERPZHrUARSSirVsGRR4bHLVv6e/sdeGBwNYmIxEorViKSEAoL4fzzo0PVvHmwfLlClYgkDwUrEQncq6/6myW/954fP/WUb/u1axdsXSIi5aVWoIgE5rvv/EU+i5x8Mkydqpsli0jy0j9fIlLtdu2Cbt1gxozw3HffwVFHBVeTiEg8qBUoItXqqaegdu1wqHrlFd/2U6gSkVSgFSsRqRbz5sGJJ4bHF1wAEyb4SyqIiKQKBSsRqVLbtkHr1pCfH5778Uc44ojgahIRqSr6f0URqTL33gtZWeFQ9e67vu2nUCUiqUorViISd9OmwamnhsfXXQd//zuYBVeTiEh1ULASkbjZtMmvRm3b5se1asFPP8EhhwRbl4hIdVErUETi4sYb4eCDw6Hq889h506FKhFJLwpWIlIpH3zgW3zPP+/Hd9/tz6Pq3j3YukREgqBWoIhUyE8/weGHh8dNmsCSJf5kdRGRdKUVKxEpF+fg17+ODlVz5kBBgUKViIiClYjEbNQof0HP8eP9+G9/80GrQ4dg6xIRSRRqBYpImfLyoGXL8LhjR5g+3X/rT0REwmJasTKz3ma22MyWmdk9+9nuEjNzZpYTvxJFJCi7d/vrUUWGqiVLYPZshSoRkZKUGazMrAYwHDgHaAP0N7M2JWxXD/hvYHq8ixSR6jd8uA9P06b58Ysv+rbfsccGW5eISCKLpRXYGVjmnFsOYGajgQuBhcW2ewgYBtwZ1wpFpFotWABt24bH/+//wfvv62bJIiKxiOWfyibAyohxQWhuLzPrCDRzzv0zjrWJSDXavt2vRkWGqoIC+PBDhSoRkVjF8s9lSXf3cnsfNMsAngTuKHNHZoPMbKaZzVy7dm3sVYpIlXrwQTjwQFi2zI/fesu3/Zo02f/zREQkWiytwAKgWcS4KfBjxLge0BaYbP4Oq4cD75hZH+fczMgdOedGACMAcnJyHCISqOnT4ZRTwuMrr4SXX9bNkkVEKiqWYDUDONbMWgI/AP2A3xQ96JzbBDQqGpvZZODO4qFKRBLH5s3QrJm/aXKRdeugYcPgahIRSQVltgKdc7uBwcBE4FtgjHNugZk9aGZ9qrpAEYmvW26B+vXDoerTT33bT6FKRKTyYrpAqHPufeD9YnP3lbJtz8qXJSLx9vHH0KtXePy738ETTwRXj4hIKtKV10VS3Lp10LhxeNy4MSxfDnXrBleTiEiq0peoRVKUc9CvX3SomjED1qxRqBIRqSoKViIpaNw4f+2pN97w40ce8UErRzebEhGpUmoFiqSQlSuhefPw+IQTYNYsOOCA4GoSEUknWrESSQF79sAZZ0SHqm+/hfnzFapERKqTgpVIkhsxAmrWhM8+8+Pnn/dtv+OPD7YuEZF0pFagSJJatAhatw6PTz/dX1KhRo3gahIRSXcKViJJZscO6NQJFi4Mz+XnR7cBRUQkGGoFiiSRv/4VMjPDoWrMGN/2U6gSEUkMWrESSQKzZkVfKuHyy2HUKN0sWUQk0ShYiSSwLVvgqKNg7drw3Jo10Rf9FBGRxKFWoEiCuuMOqFcvHKo++si3/RSqREQSl4KVSEXk5kJ2tr+8eXa2H8fJZ5/5Fl/RDZIHD/aB6uyz4/YSIiJSRdQKFCmv3FwYNAi2bvXj/Hw/BhgwoMK7Xb8eGjUKjw86yF9JvV69StQqIiLVSitWIuU1ZEg4VBXZutXPV4BzcNVV0aHqq6/g558VqkREko2ClUh5rVhRvvn9mDDBdxNffdWP//xnH7ROPrkS9YmISGDUChQpr+bNffuvpPkY/fADNG0aHh97LMyb569RJSIiyUsrViLlNXQoZGVFz2Vl+fkyFBZC797RoWr+fFiyRKFKRCQVKFiloir8xprgT1AfMQJatPBf32vRwo/LOHH9pZf8ffwmTvTjZ57xbb8TTqiGmkVEpFqoFZhqqugba1LMgAExf55Ll0KrVuFxt24weTLU1N8+EZGUoxWrVBPnb6xJxe3cCR07Roeq77+HqVMVqkREUpWCVaqJ4zfWpOIefxwOOADmzvXj3Fzf9svODrQsERGpYvr/5lQTh2+sScXNnetXqYpcfDG8+aZuliwiki60YpVqKvGNNam4rVv9N/0iQ9Xq1fDWWwpVIiLpRMEq1VTwG2tScX/4A9Sp469NBfDee77td9hhwdYlIiLVT63AVFSOb6xJxb32Glx5ZXh8ww3w7LNaoRIRSWcKViLltGoVHHlkeFyrFqxd62+aLCIi6U2tQJEYOQeNG0eHqlGj/GUVFKpERAQUrERi8sQT/kL269b5cZcuPmj16xdsXSIikljUChTZj2XL/A2SI23aBPXrB1OPiIgkNq1YiZSgsNCfhB4Zqj76yK9SKVSJiEhpFKxEirnrLn+z5CKXX+4D1dlnB1eTiIgkB7UCRUJmz4aTToqe277d35pGREQkFlqxkrS3Y4dv+0WGqhkz/CqVQpWIiJSHgpWktQEDIDMzPL79dh+ocnKCq0lERPYjN9ff0T4jw/+amxt0RVHUCpS0NGkSnHVW9Nzu3dHnVomISILJzYVBg/wNWgHy8/0YEuaOI1qxkrSyebNv+0WGqsWL/SqVQpWISIIbMiQcqops3ernE4SClaSN006LvlTCsGE+ULVqFVxNIiJSDitWlG8+AGoFSsobM8ZfMqHIIYfA+vW6WbKISNJp3ty3/0qaTxBasZKUtWaND0+RoeqHH2DDBoUqEZGkNHQoZGVFz2Vl+fkEoWAlKal5czjssPD45Zd92y/yBsoiIpJkBgyAESOgRQv/f8gtWvhxgpy4DmoFSop55hm45ZbwuGNHf+FPERFJEQMGJFSQKk7BSlLC99/DUUdFz23cCAcfHEw9IiKSntQKlKRWdLPkyFD13nu+7adQJSIi1U3BSpLWvfdGX3vqwgt9oDr33OBqEhGR9KZWoCSdefPgxBOj57Zti741jYiISBC0YiVJY9cu3/aLDFVffulXqRSqREQkEShYSVK49lqoXTs8/q//8oGqS5fgahIRESlOrUBJaFOmQI8e0XO6WbKIiCQqBStJSL/8AnXrRs8tXAitWwdTj4iISCzUCpSE06tXdKh6+GHf9lOoEhGRRKcVK0kY48fDr38dHmdmwtatuq+fiIgkDwUrCdz69dCoUfTcihXQrFkw9YiIiFSUWoESqOOOiw5Vf/+7b/spVImISDJSsJJAjBjhW3xLlvhx69Y+UF1/fbB1iYiIVIZagVKtVqyAFi2i59avhwYNgqlHREQknrRiJdXCOahVKzpUTZjg5xWqREQkVcQUrMyst5ktNrNlZnZPCY/fbmYLzWyemU0ysxYl7UfS00MPQUaGv7AnQO/ePlBdeGGwdYmIiMRbma1AM6sBDAfOBgqAGWb2jnNuYcRmc4Ac59xWM7sJGAZcXhUFS/JYsADato2e++UXyMoKph4REZGqFsuKVWdgmXNuuXNuJzAaiFprcM595pzbGhp+BTSNb5nVJDcXsrP98kp2th9X5fNS1O7d/sT0yFA1ZYpfpVKoEhGRVBZLsGoCrIwYF4TmSnMd8EFligpEbi4MGgT5+T4B5Of7cVkhqaLPS1E33+zPpSpy/fX+YznttOBqEhERqS7mnNv/BmaXAv/POXd9aHwl0Nk5d0sJ214BDAZ6OOd2lPD4IGAQQPPmzU/Kz8+v/DuIl+xsH4qKa9EC8vLi/7wU8+WX0K1b9NzOndEhS0REJFmZ2SznXE5Z28WyYlUARF6usSnwYwkveBYwBOhTUqgCcM6NcM7lOOdyGjduHMNLV6MVK8o3X9nnpYht23zbLzJUzZsX/hagiIhIOoklWM0AjjWzlmZWG+gHvBO5gZl1BJ7Hh6o18S+zGjRvXr75yj4vBfTpE33O1H33+UDVrl1wNYmIiASpzGDlnNuNb+9NBL4FxjjnFpjZg2bWJ7TZ34C6wFgzm2tm75Syu8Q1dOi+Z1ZnZfn5qnheEnvvPb9K9e674bnCQvjzn4OrSUREJBHEdOV159z7wPvF5u6L+P1Zca6r+g0Y4H8dMsS38Zo39+GoaD7ez0tCGzfuezHP77/3p5mJiIhIDCevV5WcnBw3c+bMQF5byu/EE/25U0WGD/ffABQREUkHsZ68rnsFyn6NHAnXXBMeZ2f7VSoRERHZl4KVlOjHH6FJsauVrVkDifZlThERkUSimzBLFOegfv3oUDVmjJ9XqBIREdk/BSvZa9gwf1eezZv9uGdPH6guvTTQskRERJKGWoHC4sVw/PHRc5s3Q926wdQjIiKSrLRilcb27PHXo4oMVZMm+VUqhSoREZHyU7BKU7fdBjUj1iuvuMIHqjPOCK4mERGRZKdWYJqZMQM6d46e27EDatcOph4REZFUomCVJnbsgMzM6LnZs6Fjx2DqERERSUVqBaaByy6LDlV33+3bfgpVIiIi8ZU+wSo31182PCPD/5qbG3RFXhXW9dFH/uT0sWPDc3v2wF//GreXEBERkQjp0QrMzYVBg2DrVj/Oz/djCPZmyVVU1+rVcMQR0XPLlsHRR1d4lyIiIhKD9LgJc3a2Dy3FtWgBeXnVU0NJqqAus+jxk0/6bwCKiIhIxekmzJFWrCjffHWJY1033QTPPRc9V1i4b9ASERGRqpMe51g1b16++eoSh7oWL/bhKTJULVrkT05XqBIREale6RGshg6FrKzouawsPx+kStRVFJwir5p+001+/rjj4lyniIiIxCQ9WoFFJ4IPGeLbbM2b+/AS5InrlairpJWogE6VExERkQjpcfJ6injrLejbN3pu9Wo47LBg6hEREUkXOnk9hezeDbVqRc9dcQW8+mow9YiIiEjJFKwSnNp+IiIiySM9Tl5PQo8/vm+o2rhRoUpERCSRKVglmM2bfaC6887w3EMP+UB18MHB1SUiIiJlUyswgajtJyIikty0YpUAnnpq31C1Y4dClYiISLLRilWA1q2Dxo2j53Jz4Te/CaYeERERqRytWAXELDpUnXqqX6EqM1Tl5vqbN2dk+F9zc6uwShERESkPBatqdscd+7b9Cgvhiy9ieHJuLgwaBPn5PoXl5/uxwpWIiEhCULCqJsuX+0D1xBPhuX//u5w3Sx4yBLZujZ7butXPi4iISOAUrKqBGRx9dHh89dU+ULVtW84drVhRvnkRERGpVgpWVeiii/ZdjXIOXnqpgjts3rx88yIiIlKtFKyqwIwZPlC9/XZ4rqAgDpdPGDoUsrKi57Ky/LyIiIgETsEqjgoLfaDq3Dk89+CDPlA1aRKHFxgwAEaMgBYt/Au1aOHHAwbEYeciIiJSWbqOVZwcfzwsXhw9VyUX+BwwQEFKREQkQWnFqpLee88vHkWGqk2bdNV0ERGRdKRgVUHbt/tAdf754bmXXvKBqn794OoSERGR4KgVWAHFv+l3wAE+aImIiEh604pVOYwYUfLNkhWqREREBLRiFZONG6FBg+i5iROhV69g6hEREZHEpGBVhuIrVB06wJw5wdQiIiIiiU2twFIMGVLyzZIVqkRERKQ0WrEqZsUKf93NSHPm+JUqERERkf1J/RWr3FzIzoaMDP9rbm6pm7ZpEx2qLrvMXz5BoUpERERikdorVrm5MGgQbN3qx/n5fgxRVy9/4QX47W+jn6oLfIqIiEh5pfaK1ZAh4VBVZOtWPw+sXOnPo4oMVevWKVSJiIhIxaR2sFqxosRpl7+CAw+E5s3Dc2+95QNVw4bVVJuIiIiknNQOVpHJKWQofySDwr0X9TzrLB+oLr64mmsTERGRlJPa51gNHbr3HKsfOJKm/BD18JYtUKdOQLWJiIhIykntFasBA2DECFY06RIVqiZP9qtUClUiIiIST6kdrAAGDKDWjC857jj4v//zgapHj6CLEhERkVSU2q3AkCOOgEWLgq5CREREUl3qr1iJiIiIVBMFKxEREZE4UbASERERiRMFKxEREZE4UbASERERiRMFKxEREZE4iSlYmVlvM1tsZsvM7J4SHj/AzN4IPT7dzLLjXaiIiIhIoiszWJlZDWA4cA7QBuhvZm2KbXYdsNE5dwzwJPBovAsVERERSXSxrFh1BpY555Y753YCo4ELi21zIfBy6PfjgDPNzOJXpoiIiEjiiyVYNQFWRowLQnMlbuOc2w1sAhrGo0ARERGRZBFLsCpp5clVYBvMbJCZzTSzmWvXro2lPhEREZGkEUuwKgCaRYybAj+Wto2Z1QQOAjYU35FzboRzLsc5l9O4ceOKVSwiIiKSoGIJVjOAY82spZnVBvoB7xTb5h1gYOj3lwCfOuf2WbESERERSWUWS/4xs3OBp4AawIvOuaFm9iAw0zn3jpllAq8CHfErVf2cc8vL2OdaIL+Ml24ErCv7bUgC0rFLXjp2yU3HL3np2CW2Fs65MtttMQWroJjZTOdcTtB1SPnp2CUvHbvkpuOXvHTsUoOuvC4iIiISJwpWIiIiInGS6MFqRNAFSIXp2CUvHbvkpuOXvHTsUkBCn2MlIiIikkwSfcVKREREJGkEHqzMrLeZLTazZWZ2TwmPH2Bmb4Qen25m2dVfpZQmhuN3u5ktNLN5ZjbJzFoEUafsq6xjF7HdJWbmzEzfVkoQsRw7M7ss9HdvgZm9Xt01Suli+HezuZl9ZmZzQv92nhtEnVIxgbYCzawGsAQ4G3/19hlAf+fcwohtbgbaO+duNLN+wMXOucsDKViixHj8TgemO+e2mtlNQE8dv+DFcuxC29UD3gNqA4OdczOru1aJFuPfu2OBMcAZzrmNZnaoc25NIAVLlBiP3whgjnPuWTNrA7zvnMsOol4pv6BXrDoDy5xzy51zO4HRwIXFtrkQeDn0+3HAmWZW0r0JpfqVefycc58557aGhl/hb4kkwYvl7x7AQ8AwYHt1Fif7Fcux+y0w3Dm3EUChKqHEcvwcUD/0+4PY9zZyksCCDlZNgJUR44LQXInbOOd2A5uAhtVSnZQlluMX6TrggyqtSGJV5rEzs45AM+fcP6uzMClTLH/vWgGtzGyamX1lZr2rrTopSyzH7wHgCjMrAN4Hbqme0iQeagb8+iWtPBXvTcayjQQj5mNjZlcAOUCPKq1IYrXfY2dmGcCTwNXVVZDELJa/dzWBY4Ge+FXiL8ysrXPu5yquTcoWy/HrD4x0zj1uZl2AV0PHr7Dqy5PKCnrFqgBoFjFuyr5Lnnu3MbOa+GXRDdVSnZQlluOHmZ0FDAH6OOd2VFNtsn9lHbt6QFtgspnlAacA7+gE9oQQ67+bbzvndjnnvgcW44OWBC+W43cd/hw5nHP/AjLx9xGUJBB0sJoBHGtmLc2sNtAPeKfYNu8AA0O/vwT41OniW4mizOMXaic9jw9VOs8jcez32DnnNjnnGjnnskMnzX6FP4Y6eT14sfy7OQE4HcDMGuFbg8urtUopTSzHbwVwJoCZtcYHq7XVWqVUWKDBKnTO1GBgIvAtMMY5t8DMHjSzPqHN/gE0NLNlwO1AqV8Ll+oV4/H7G1AXGGtmc82s+D8gEoAYj50koBiP3URgvZktBD4Dfu+cWx9MxRIpxuN3B/BbM/sGGAVcrQWF5KErr4uIiIjESdCtQBEREZGUoWAlIiIiEicKViIiIiJxomAlIiIiEicKViIiIiJxomAlIiIiEicKViIiIiJxomAlIiIiEif/H/9m9tMlqRy6AAAAAElFTkSuQmCC\n",
      "text/plain": [
       "<Figure size 720x432 with 1 Axes>"
=======
   "execution_count": 13,
   "metadata": {},
   "outputs": [
    {
     "data": {
      "image/png": "iVBORw0KGgoAAAANSUhEUgAAAecAAAEyCAYAAADA/hjIAAAABHNCSVQICAgIfAhkiAAAAAlwSFlzAAALEgAACxIB0t1+/AAAADl0RVh0U29mdHdhcmUAbWF0cGxvdGxpYiB2ZXJzaW9uIDMuMC4yLCBodHRwOi8vbWF0cGxvdGxpYi5vcmcvOIA7rQAAHNJJREFUeJzt3Xt8lOWd9/HvL4FAQCDIQSUQAUEQsYiGg4d6KCrBVyt06wEtVq2KtbXWraVC3ce1+nQr8rSu2+VRaatutYK6pcq6Qqwnulo5hJMIEg1BIYlKOAoYIIdr/8hAY5gZJsnMPdfMfN6vV17ch9/M/OZiyJeZ+5r7NuecAACAP7KS3QAAAPgywhkAAM8QzgAAeIZwBgDAM4QzAACeIZwBAPAM4QwAgGcIZwAAPEM4AwDgmXbJeuCePXu6/v37J+vhAQAI1IoVK7Y553rFUpu0cO7fv79KSkqS9fAAAATKzD6OtZaPtQEA8AzhDACAZwhnAAA8QzgDAOAZwhkAAM8QzgAAeIZwBgDAM4QzAACeIZwBAPAM4QwAgGeSdvpOAEDsXlhVqVnFparaVaM+ebmaNn6IJo3MT3ZbSBDCGQA898KqSs2Yv1Y1tfWSpMpdNZoxf60kEdBpio+1AcBzs4pLDwfzITW19ZpVXJqkjpBohDMAeK5qV02LtiP1Ec4A4Lk+ebkt2o7URzgDgOemjR+i3PbZX9qW2z5b08YPSVJHSDQmhAGA5w5N+mK2duYgnAEgBUwamU8YZxA+1gYAwDOEMwAAniGcAQDwDOEMAIBnCGcAADxDOAMA4BnCGQAAzxDOAAB4hnAGAMAzhDMAAJ4hnAEA8AzhDACAZwhnAAA8QzgDAOAZwhkAAM8QzgAAeIZwBgDAM4QzAACeIZwBAPAM4QwAgGcIZwAAPEM4AwDgGcIZAADPEM4AAHiGcAYAwDOEMwAAniGcAQDwDOEMAIBnYgpnMysys1IzKzOz6WH2F5jZG2a2yszeNbNL498qAACZ4ajhbGbZkmZLmiBpmKSrzWxYs7J/kvScc26kpMmS/n+8GwUAIFPE8s55tKQy51y5c+6gpHmSJjarcZK6hpa7SaqKX4sAAGSWWMI5X9KWJusVoW1N3StpiplVSHpZ0g/D3ZGZTTWzEjMrqa6ubkW7AACkv1jC2cJsc83Wr5b0pHOur6RLJT1lZkfct3NujnOu0DlX2KtXr5Z3CwBABoglnCsk9Wuy3ldHfmx9o6TnJMk5946kjpJ6xqNBAAAyTSzhvFzSYDMbYGY5apzwtaBZzWZJ4yTJzE5RYzjzuTUAAK1w1HB2ztVJuk1SsaT31Tgre52Z3Wdml4XK7pR0s5mtkTRX0vXOueYffQMAgBi0i6XIOfeyGid6Nd12T5Pl9ZLOiW9rAABkJs4QBgCAZwhnAAA8QzgDAOAZwhkAAM8QzgAAeIZwBgDAM4QzAACeIZwBAPAM4QwAgGcIZwAAPEM4AwDgGcIZAADPEM4AAHiGcAYAwDOEMwAAniGcAQDwDOEMAIBnCGcAADxDOAMA4BnCGQAAzxDOAAB4hnAGAMAzhDMAAJ4hnAEA8AzhDACAZwhnAAA8QzgDAOAZwhkAAM8QzgAAeIZwBgDAM4QzAACeIZwBAPAM4QwAgGcIZwAAPEM4AwDgGcIZAADPEM4AAHiGcAYAwDOEMwAAniGcAQDwDOEMAIBnCGcAADxDOAMA4BnCGQAAz8QUzmZWZGalZlZmZtMj1FxpZuvNbJ2ZPRPfNgEAyBztjlZgZtmSZku6WFKFpOVmtsA5t75JzWBJMySd45zbaWa9E9UwAADpLpZ3zqMllTnnyp1zByXNkzSxWc3NkmY753ZKknNua3zbBAAgc8QSzvmStjRZrwhta+pkSSeb2dtmtsTMisLdkZlNNbMSMyuprq5uXccAAKS5WMLZwmxzzdbbSRos6QJJV0v6nZnlHXEj5+Y45wqdc4W9evVqaa8AAGSEWMK5QlK/Jut9JVWFqXnROVfrnNskqVSNYQ0AAFoolnBeLmmwmQ0wsxxJkyUtaFbzgqQLJcnMeqrxY+7yeDYKAECmOGo4O+fqJN0mqVjS+5Kec86tM7P7zOyyUFmxpO1mtl7SG5KmOee2J6ppAADSmTnX/PBxMAoLC11JSUlSHhsAgKCZ2QrnXGEstZwhDAAAzxDOAAB4hnAGAMAzhDMAAJ4hnAEA8AzhDACAZwhnAAA8QzgDAOAZwhkAAM8QzgAAeIZwBgDAM4QzAACeIZwBAPAM4QwAgGcIZwAAPEM4AwDgGcIZAADPEM4AAHiGcAYAwDOEMwAAniGcAQDwDOEMAIBnCGcAADxDOAMA4BnCGQAAzxDOAAB4hnAGAMAzhDMAAJ4hnAEA8AzhDACAZwhnAAA8QzgDAOAZwhkAAM8QzgAAeIZwBgDAM4QzAACeIZwBAPAM4QwAgGcIZwAAPEM4AwDgGcIZAADPEM4AAHiGcAYAwDOEMwAAnokpnM2syMxKzazMzKZHqbvczJyZFcavRQAAMstRw9nMsiXNljRB0jBJV5vZsDB1XSTdLmlpvJsEACAeausbtOLjHXr41Q+1v7Y+2e1E1C6GmtGSypxz5ZJkZvMkTZS0vlnd/ZIelPSTuHYIAEArOedUtnWv3irbprfLtmlJ+Q7tPVAnM+mrJ/fUGQXdk91iWLGEc76kLU3WKySNaVpgZiMl9XPOvWRmhDMAIGk+3b1fb4fC+K2ybdq654AkqX+PTpp4eh+dO6inzjqph/I65SS508hiCWcLs80d3mmWJekhSdcf9Y7MpkqaKkkFBQWxdQgAQBSf76/V0vIdh8O4bOteSdKxnXN0zqCeOndQD519Uk/1O7ZTkjuNXSzhXCGpX5P1vpKqmqx3kTRc0ptmJknHS1pgZpc550qa3pFzbo6kOZJUWFjoBABACx2sa9CqzTsPh/Gait2qb3Dq2D5LYwb00FWF/XTOoJ4aenwXZWWFe3/pv1jCebmkwWY2QFKlpMmSrjm00zm3W1LPQ+tm9qaknzQPZgAAWqOhwan0sz2Hw3hp+Q7V1NYry6QR/fL0/QtO0jmDempkQZ46tMtOdrtxcdRwds7VmdltkoolZUt63Dm3zszuk1TinFuQ6CYBAJnlxdWV+tG81UdsP6lXZ11Z2FfnDOqpMQN7qFtu+yR0l3ixvHOWc+5lSS8323ZPhNoL2t4WACCTrK3YrSse+5v21zaE3f//rhihcwb10AndcgPuLDliCmcAAOKpes8B3fJUiVZu3hWx5vZxg3XHuMEpe9y4LQhnAEDCHaxr0H0vrdPTSzZHrLnolOP066tGqGvH9PyouiUIZwBAQjyzdLN+9ue1Effn5+XqqRtHa2CvYwLsKjUQzgCAuFj+0Q5d8eg7UWueuGGULhzSO6COUhfhDABolapdNfruk8u14dM9EWtmTBiqqecNVOg8GIgR4QwAiMn+2nr9bP5azV9VGbFm4ul99MA/fEW5OenxfeNkIZwBAGE55/T7tzbp//73+xFrBvc+Rk/cMEp9u6fOqTFTAeEMADjsfz6s1rW/Xxa1Zt7UsRo7sEdAHWUmwhkAMthH2/bp2seXasuOmog1908ariljCjhuHCDCGQAyyN4DdbrzudUqXvdZxJqrRxfo3suGpc15qlMR4QwAaayhwek3r5fpoVc/iFgzol+efnvtmerdtWOAnSEawhkA0kzxuk91y1MrIu7Pyc7Sc987S6f3ywuwK7QE4QwAKe6Dz/bo6jlLtH3fwYg1v7pihL51Zt8Au0JbEM4AkGJ2fXFQP5y7Sv/z4baINTedO0DTJwxVu+ysADtDvBDOAOC5g3UNOvuB17Vt74GINWef1EOzrzlD3TvnBNgZEoVwBgAP/ezPa/XM0shXcMrr1F5zbx6rU07oGmBXCArhDAAe+K81Vfrh3FVRa245b6BmXHpKQB0hmQhnAEiCjdV7Ne5Xi6PWnNSrs4rvOI/jxnH0wqpKzSouVdWuGvXJy9W08UM0aWR+sts6AuEMAAGoOViv4fcWq77BRa1bdvc49e7C940T4YVVlZoxf61qauslSZW7ajRjfuP1pn0LaMIZABLAOafv/3GlFr73adQ6zlMdnFnFpYeD+ZCa2nrNKi4lnAEgXT2zdLN+9ue1UWumjR+iH1w4KKCO0FTVrvDnD4+0PZkIZwBopfcqd+vrv3kras2o/t317NSzlJXFRSOSrU9erirDBHGfvNwkdBMd4QwAMdpdU6sRP3/lqHVr7rlE3Tq1D6AjtMS08UO+dMxZknLbZ2va+CFJ7Co8whkAInDO6ao5S7Rs046odf9127k6rW+3gLpCax06rsxsbQBIMY8u3qgHFm6IWnP/pOG6duyJAXWEeJo0Mt/LMG6OcAaQ0ZZt2qErH3snas0lw47TY9eeKTOOGyMYhDOAjFK954BG/eLVqDVm0rqfj1enHH5FIjl45QFIa/UNTuP/9a8q27o3at2rPz5Pg3p3CagrIDrCGUDaeWDhBj26eGPUmocnn66Jp/t/7BGZiXAGkPLe2LBVNzy5PGrNlYV99eDlIwLqCGgbwhlAyqncVaNzHng9as2xnXP0zoyvqUO77IC6AuKHcAbgvYN1DTrrl69p+76DUeveuutC9e3eKaCugMQhnAF4acb8dzV32ZaoNY9fX6ivDT0uoI6A4BDOALywYE2Vbp+7KmrNLecP1IwJpwTUEZA8hDOApCjbulcX/Xpx1JqTenVW8R3nqV12VkBdAX4gnAEE4ouDdRp2T/FR65bffZF6dekQQEeAvwhnAAnhnNMtT63QK+s/i1r37NSxGjOwR0BdAamBcAYQN39c+rHu/vN7UWvuKhqqWy84KaCOgNREOANotfcqd+vrv3kras3oAcfq2aljuWgE0AKEM4CY7a6p1Yifv3LUujX/fIm65bYPoCMgPRHOACJyzunKx97R8o92Rq176Yfnanh+t4C6AtIf4QzgSx55c6NmLtoQteYX3xyub485MaCOgMxDOAMZbmn5dl01Z0nUmqJTj9cjU87guDEQEMIZyDDVew5o1C9ejVqTZdJ7Px+vTjn8igCSIaZ/eWZWJOlhSdmSfuece6DZ/h9LuklSnaRqSd91zn0c514BtEJ9g9PFDy1WefW+qHWv/vh8Dep9TEBdAYjmqOFsZtmSZku6WFKFpOVmtsA5t75J2SpJhc65L8zsVkkPSroqEQ0DOLpF732i7z29MmrNv109UpeN6BNQRwBaIpZ3zqMllTnnyiXJzOZJmijpcDg7595oUr9E0pR4Ngkgug2ffq7Jc5Zo1xe1EWsmj+qnB771lQC7AtBasYRzvqSm122rkDQmSv2Nkha2pSkA0e3cd1A/eGal/rZxe8Sam84doOkThnLRCCAFxRLO4aZnurCFZlMkFUo6P8L+qZKmSlJBQUGMLQKoq2/QLxdu0O/f2hSx5uyTemj2NWeoe+ecADsDkAixhHOFpH5N1vtKqmpeZGYXSbpb0vnOuQPh7sg5N0fSHEkqLCwMG/AAGv1pRYXufH5NxP15ndpr3tSxGnp81wC7AhCEWMJ5uaTBZjZAUqWkyZKuaVpgZiMlPSapyDm3Ne5dAhlgzZZduuLRd3SwviFizSPfPkMTTjshwK4AJMNRw9k5V2dmt0kqVuNXqR53zq0zs/sklTjnFkiaJekYSc+HTlKw2Tl3WQL7BlLe1j37dfMfVmjNll0Ra24fN1h3jBusrCxO/gFkkpi+5+yce1nSy8223dNk+aI49wWknQN19bp3wXrNXbY5Ys1Fpxynh64aoS4duWgEkMk4/Q+QIM45Pb3kY/2fF9dFrMnPy9VTN47WwF6c/APA3xHOQBzFcp7qJ28YpQuG9A6oIwCpiHAG2qByV42ue3yZyrbujVgzY8JQTT1vIBeNABAzwhlogZqD9Zo+/129uPqIbxMeNun0PvrlP3xFuTnZAXYGIJ0QzkAUzjk99tdyPbAw8vWNTz7uGD1+/Sj17d4pwM4ApDPCGWjmzdKtuv6J5VFrnp06VmMG9gioIwCZhnBGxiuv3qspv1uqqt37I9bcP2m4powp4LgxEKAXVlVqVnGpqnbVqE9erqaNH6JJI/OT3VYgCGdknD37a/WPz67Wq+9HPpndNWMK9M/fGKYO7ThuDCTDC6sqNWP+WtXU1ktqnHw5Y/5aScqIgCackfYaGpz+9dUP9G+vl0WsGdEvT7/9zpnq3aVjgJ0BiGRWcenhYD6kprZes4pLCWcgVS1c+4lu/ePKiPtz2mXp+VvO0oh+eQF2BSBWVbtqWrQ93RDOSAsbPv1cVz22RLtraiPW/OqKEfrWmX0D7ApAa/XJy1VlmCDuk5ebhG6CRzhnoHSYZLFz30F9/48r9U759og1N507QNMnDFW77KwAOwMQD9PGD/nSMWdJym2frWnjhySxq+AQzhkmVSdZ1NU36F9e3qDH394UseacQT3071efoe6dcwLsDEAiHPp9lOpvJFqLcM4wqTTJ4k8rKnTn82si7u/eqb3mTh2rocd3DbArAEGZNDLfu99LQSGcM4zPkyxWb9mlKx79m2rrXcSaR759hiacdkKAXQFA8AjnDOPTJIutn+/XzX8o0ZqK3RFrbh83WHeMG6ysLE7+ASBzEM4ZJpmTLA7U1eveBes0d9mWiDUXDztOv75yhLp0bJ/wfqT0mBwHIP0QzhkmyEkWzjk9teRj3fPiuog1+Xm5evqmMRrQs3PcH/9oUnVyHID0RzhnoEROslhSvl2T5yyJWvPkDaN0wZDeCXn8lkilyXEAMgvhjDap2PmFrnt8mTZW74tYM2PCUE09b6B3F43weXIcgMxGOKNFag7W664/vasFa6oi1nxzZL7+5ZunKTfH74tG+DQ5DgCaIpwRlXNOjy4u18xFGyLWnHzcMXrihtHKT7FQy/QzEAHwF+GMI7xRulU3PLE8as28qWM1dmCPgDpKjEw/AxEAfxHOUHn1Xn37d0v1ye79EWvunzRcU8YUeHfcuK0y+QxEAPxFOGegvQfq9KO5q/Tahq0Ra6aMLdA9Xz9VOe24aEQq4vvbQGojnDNAQ4PTS2s/0cyFG8JOgJKkkQV5euzaM9W7S8eAu0O88f1tIPURzmlq5eadmrlwg5Zu2hF2//FdO+qxa8/UiH55AXeGROP720DqI5zTRMXOL/TQXz7Un1ZWhN1/RkGeflo0NOUnceHo+P42kPoI5xS190CdfvvXcj382odh9x/ftaN+WjREE0/PVzYXjcgofH8bSH2Ec4qob3Cav7JCMxeVatveA2Fr7rz4ZH333AHq3IG/1kzG97eB1MdvcY+9s3G7Zi7aoNVbdoXdf1VhP91+0eCUO/kHEise399mtjeQXISzRzZt26dfvVKql979JOz+swb20E+LhmhkQfeAO0Oqacv3t5ntDSQf4ZxEu7+o1SOLN+rRxRvD7i84tpN+WjRElw4/QVkcN0ZAmO0NJB/hHKDa+gY9u3yLZi7aoD37647Yn51luqtoiL5zVn91bO/3RSOQvpjtDSQf4ZxAzjkt/qBaMxeV6v1PPg9b852zTtRtFw5S766c/AN+YLY3kHwZEc5BTm754LM9mlVcqr+s/yzs/q8N7a2fXDJEw/p0TcjjA23FbG8g+dI+nBM9uWX73gP69zfK9MTbH4XdP6j3MbqraKguOqV32l00AumJq3UByZf24RzvyS0H6ur19JLNmrlogw7WNRyxv1NOtu4qGqrJo/upQzuOGyM1cbUuILnSPpzbOrnFOadX1n+mmYs2qLx6X9iam786QLdeMEjHds5pdZ8AAByS9uHcmskt71Xu1oPFpfrrB9Vh908YfrzuvORkDerdJW59AgBwSNqHcyyTWz77fL8efu1DPbN0c9j7OC2/m+4qGqpzB/dMeL8AAKR9OIeb3PKjcYNVtbtG/af/d9jbdO/UXncVDdXlZ/ZVu+ysINsFAEDmnEvKAxcWFrqSkpLAHm/Lji80ec6SsB9xS9JtFw7SzecNVLfc9oH1BADIHGa2wjlXGEtt2r9zPuSrD77xpfVJp/fRP158sk7s0TlJHQEAEF7GhPOG+4tUtnWvhud3S3YrAABEFdMBVTMrMrNSMyszs+lh9ncws2dD+5eaWf94N9pWHdtnE8wAgJRw1HA2s2xJsyVNkDRM0tVmNqxZ2Y2SdjrnBkl6SNLMeDcKAECmiOWd82hJZc65cufcQUnzJE1sVjNR0n+Elv9T0jjjXJUAALRKLOGcL2lLk/WK0LawNc65Okm7JfVofkdmNtXMSsyspLo6/Ak+AADIdLGEc7h3wM2/fxVLjZxzc5xzhc65wl69esXSHwAAGSeWcK6Q1K/Jel9JVZFqzKydpG6SdsSjQQAAMk0s4bxc0mAzG2BmOZImS1rQrGaBpOtCy5dLet0l6+wmAACkuKN+z9k5V2dmt0kqlpQt6XHn3Dozu09SiXNugaTfS3rKzMrU+I55ciKbBgAgncV0EhLn3MuSXm627Z4my/slXRHf1gAAyExc1QEAAM8QzgAAeCZpV6Uys2pJHyflwduup6RtyW4iyRgDxkBiDCTGQGIMpNjG4ETnXEzfI05aOKcyMyuJ9bJf6YoxYAwkxkBiDCTGQIr/GPCxNgAAniGcAQDwDOHcOnOS3YAHGAPGQGIMJMZAYgykOI8Bx5wBAPAM75wBAPAM4QwAgGcI5ybMrMjMSs2szMymh9nfwcyeDe1famb9Q9v7m1mNma0O/TwadO/xEsMYnGdmK82szswub7bvOjP7MPRzXfPbpoo2jkF9k9dB8wvEpJQYxuHHZrbezN41s9fM7MQm+zLltRBtDNLitRDDGHzPzNaGnudbZjasyb4ZoduVmtn4YDuPn9aOQZuywTnHT+Nx92xJGyUNlJQjaY2kYc1qvi/p0dDyZEnPhpb7S3ov2c8hoDHoL+krkv4g6fIm24+VVB76s3touXuyn1OQYxDatzfZzyHAcbhQUqfQ8q1N/j1k0msh7Biky2shxjHo2mT5MkmLQsvDQvUdJA0I3U92sp9TwGPQ6mzgnfPfjZZU5pwrd84dlDRP0sRmNRMl/Udo+T8ljTMzC7DHRDvqGDjnPnLOvSupodltx0v6i3Nuh3Nup6S/SCoKouk4a8sYpJNYxuEN59wXodUlarzWu5RZr4VIY5AuYhmDz5usdpZ0aJbxREnznHMHnHObJJWF7i/VtGUMWo1w/rt8SVuarFeEtoWtcc7VSdotqUdo3wAzW2Vmi83sq4luNkFiGYNE3NYnbX0eHc2sxMyWmNmk+LYWqJaOw42SFrbytr5qyxhI6fFaiGkMzOwHZrZR0oOSbm/JbVNAW8ZAamU2xHTJyAwR7h1w8//9RKr5RFKBc267mZ0p6QUzO7XZ/6ZSQSxjkIjb+qStz6PAOVdlZgMlvW5ma51zG+PUW5BiHgczmyKpUNL5Lb2t59oyBlJ6vBZiGgPn3GxJs83sGkn/JOm6WG+bAtoyBq3OBt45/12FpH5N1vtKqopUY2btJHWTtCP0sc12SXLOrVDj8YmTE95x/MUyBom4rU/a9Dycc1WhP8slvSlpZDybC1BM42BmF0m6W9JlzrkDLbltCmjLGKTLa6Glf5fzJB36lCCjXgdNHB6DNmVDsg+2+/Kjxk8RytU4ceHQQf9Tm9X8QF+eEPZcaLmXQhMd1DhpoFLSscl+TokYgya1T+rICWGb1DgBqHtoOdPGoLukDqHlnpI+VLOJI6nyE+O/h5GhXzaDm23PmNdClDFIi9dCjGMwuMnyNySVhJZP1ZcnhJUrNSeEtWUMWp0NSX/iPv1IulTSB6F/bHeHtt2nxv8RS1JHSc+rcWLDMkkDQ9u/JWld6C9tpaRvJPu5JHAMRqnxf5L7JG2XtK7Jbb8bGpsySTck+7kEPQaSzpa0NvQ6WCvpxmQ/lwSPw6uSPpO0OvSzIANfC2HHIJ1eCzGMwcOh33+rJb3RNLjU+InCRkmlkiYk+7kEPQZtyQZO3wkAgGc45gwAgGcIZwAAPEM4AwDgGcIZAADPEM4AAHiGcAYAwDOEMwAAnvlf2XvmOYDnOssAAAAASUVORK5CYII=\n",
      "text/plain": [
       "<Figure size 576x360 with 1 Axes>"
>>>>>>> 92cb8a772358e28fa55891737d4e7d218b55d512
      ]
     },
     "metadata": {
      "needs_background": "light"
     },
     "output_type": "display_data"
    }
   ],
   "source": [
<<<<<<< HEAD
    "print(reg.score(X_test, y_test))\n",
    "\n",
    "plt.figure(figsize = (10, 6))\n",
    "plt.plot(y_test, y_test, color=\"blue\", label = \"Actual Y Values\")\n",
    "plt.scatter(y_test, reg.predict(X_test), color=\"red\", label=\"Modeled Y Values\")\n",
    "plt.title(\"Plotting Testing Predictions Against Data\")\n",
    "plt.legend()\n",
=======
    "y_hat_test = model1.predict(X_test)\n",
    "\n",
    "plot_y_test = LinearRegression().fit(y_hat_test.reshape(-1,1), \n",
    "                                      y_test).predict(y_hat_test.reshape(-1,1))\n",
    "\n",
    "plt.figure(figsize=(8,5))\n",
    "plt.scatter(y_hat_test, y_test)\n",
    "plt.plot(y_hat_test, plot_y_test)\n",
>>>>>>> 92cb8a772358e28fa55891737d4e7d218b55d512
    "plt.show()"
   ]
  },
  {
   "cell_type": "markdown",
   "metadata": {},
   "source": [
    "## Calculate the bias\n",
    "Create a function `bias` to calculate the bias of a models predictions given the actual data: $Bias(\\hat{f}(x)) = E[\\hat{f}(x)-f(x)]$   \n",
    "(The expected value can simply be taken as the mean or average value.)  \n"
   ]
  },
  {
   "cell_type": "code",
   "execution_count": 11,
   "metadata": {},
   "outputs": [],
   "source": [
    "def bias(y, y_hat):\n",
    "    expectation = np.mean(y_hat - y)\n",
    "    return expectation"
   ]
  },
  {
   "cell_type": "markdown",
   "metadata": {},
   "source": [
    "## Calculate the variance\n",
    "Create a function `variance` to calculate the variance of a model's predictions: $Var(\\hat{f}(x)) = E[\\hat{f}(x)^2] - \\big(E[\\hat{f}(x)]\\big)^2$"
   ]
  },
  {
   "cell_type": "code",
   "execution_count": 12,
   "metadata": {},
   "outputs": [],
   "source": [
    "def variance(y_hat):\n",
    "    var = np.mean(y_hat ** 2) - (np.mean(y_hat) ** 2)\n",
    "    return var"
   ]
  },
  {
   "cell_type": "markdown",
   "metadata": {},
   "source": [
    "## Use your functions to calculate the bias and variance of your model. Do this separately for the train and test sets."
   ]
  },
  {
   "cell_type": "code",
<<<<<<< HEAD
   "execution_count": 15,
   "metadata": {},
   "outputs": [
    {
     "name": "stdout",
     "output_type": "stream",
     "text": [
      "Bias: -6.6084703846735505e-18 \n",
      " Variance: 0.02271920388689499\n"
     ]
    }
   ],
   "source": [
    "train_bias = bias(y_train, reg.predict(X_train))\n",
    "train_var = variance(reg.predict(X_train))\n",
    "\n",
    "print(\"Bias: {} \\n Variance: {}\".format(train_bias, train_var))"
   ]
=======
   "execution_count": null,
   "metadata": {},
   "outputs": [],
   "source": []
>>>>>>> 92cb8a772358e28fa55891737d4e7d218b55d512
  },
  {
   "cell_type": "code",
   "execution_count": 16,
   "metadata": {},
   "outputs": [
    {
     "name": "stdout",
     "output_type": "stream",
     "text": [
      "Bias: -0.008520383656011397 \n",
      " Variance: 0.00877251871620311\n"
     ]
    }
   ],
   "source": [
    "test_bias = bias(y_test, reg.predict(X_test))\n",
    "test_var = variance(reg.predict(X_test))\n",
    "\n",
    "print(\"Bias: {} \\n Variance: {}\".format(test_bias, test_var))"
   ]
  },
  {
   "cell_type": "markdown",
   "metadata": {},
   "source": [
    "## Describe in words what these numbers can tell you."
   ]
  },
  {
   "cell_type": "markdown",
   "metadata": {},
   "source": [
    "Your description here (this cell is formatted using markdown)"
   ]
  },
  {
   "cell_type": "markdown",
   "metadata": {},
   "source": [
    "## Overfit a new model by creating additional features by raising current features to various powers."
   ]
  },
  {
   "cell_type": "markdown",
   "metadata": {},
   "source": [
    "Use `PolynomialFeatures` with degree 3. \n",
    "\n",
    "**Important note:** By including this, you don't only take polynomials of single variables, but you also combine variables, eg:\n",
    "\n",
    "$ \\text{Budget} * \\text{MetaScore} ^ 2 $\n",
    "\n",
    "What you're essentially doing is taking interactions and creating polynomials at the same time! Have a look at how many columns we get using `np.shape`. Quite a few!\n"
   ]
  },
  {
   "cell_type": "code",
   "execution_count": 28,
   "metadata": {},
   "outputs": [
    {
     "data": {
      "text/plain": [
       "array([ 5.53248868e-02,  2.33625045e-01,  2.96934768e-01,  8.79313709e-02,\n",
       "        7.50312265e-02,  8.52117817e-02,  1.35890578e-01,  2.37789515e-02,\n",
       "        1.25846565e-01,  6.03041495e-01,  1.83718590e-01,  2.65764484e-01,\n",
       "        1.00000000e+00,  5.22270986e-02, -1.85962357e-15,  1.48038752e-01,\n",
       "        2.86884201e-02,  3.70969046e-01,  2.64781501e-01,  2.28559003e-01,\n",
       "        1.62469860e-01])"
      ]
     },
     "execution_count": 28,
     "metadata": {},
     "output_type": "execute_result"
    }
   ],
   "source": [
    "from sklearn.preprocessing import PolynomialFeatures\n",
    "poly = PolynomialFeatures(3)\n",
    "\n",
    "X_train_poly = poly.fit_transform(X_train)\n",
    "X_test_poly = poly.fit_transform(X_test)\n",
    "\n",
    "reg_poly=LinearRegression()\n",
    "\n",
    "reg_poly.fit(X_train_poly,y_train)\n",
    "reg_poly.predict(X_train_poly)"
   ]
  },
  {
   "cell_type": "markdown",
   "metadata": {},
   "source": [
    "## Plot your overfitted model's training predictions against the actual data"
   ]
  },
  {
   "cell_type": "code",
   "execution_count": 29,
   "metadata": {},
   "outputs": [
    {
     "data": {
      "image/png": "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\n",
      "text/plain": [
       "<Figure size 720x432 with 1 Axes>"
      ]
     },
     "metadata": {
      "needs_background": "light"
     },
     "output_type": "display_data"
    }
   ],
   "source": [
    "plt.figure(figsize = (10, 6))\n",
    "plt.plot(y_train, y_train, color=\"blue\", label = \"Actual Y Values\")\n",
    "plt.scatter(y_train, reg_poly.predict(X_train_poly), color=\"red\", label=\"Modeled Y Values\")\n",
    "plt.title(\"Plotting Testing Predictions Against Data\")\n",
    "plt.legend()\n",
    "plt.show()"
   ]
  },
  {
   "cell_type": "markdown",
   "metadata": {},
   "source": [
    "Wow, we almost get a perfect fit!"
   ]
  },
  {
   "cell_type": "markdown",
   "metadata": {},
   "source": [
    "## Calculate the bias and variance for the train set"
   ]
  },
  {
   "cell_type": "code",
   "execution_count": 32,
   "metadata": {},
   "outputs": [
    {
     "name": "stdout",
     "output_type": "stream",
     "text": [
      "-5.518072771202415e-16\n"
     ]
    }
   ],
   "source": [
    "poly_bias = bias(y_train, reg_poly.predict(X_train_poly))\n",
    "print(poly_bias)"
   ]
  },
  {
   "cell_type": "code",
   "execution_count": 33,
   "metadata": {},
   "outputs": [
    {
     "name": "stdout",
     "output_type": "stream",
     "text": [
      "0.04988427267653747\n"
     ]
    }
   ],
   "source": [
    "poly_var = variance(reg_poly.predict(X_train_poly))\n",
    "print(poly_var)"
   ]
  },
  {
   "cell_type": "markdown",
   "metadata": {},
   "source": [
    "## Plot your overfitted model's test predictions against the actual data."
   ]
  },
  {
   "cell_type": "code",
   "execution_count": 34,
   "metadata": {},
   "outputs": [
    {
     "data": {
      "image/png": "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\n",
      "text/plain": [
       "<Figure size 720x432 with 1 Axes>"
      ]
     },
     "metadata": {
      "needs_background": "light"
     },
     "output_type": "display_data"
    }
   ],
   "source": [
    "plt.figure(figsize = (10, 6))\n",
    "plt.plot(y_train, y_train, color=\"blue\", label = \"Actual Y Values\")\n",
    "plt.scatter(y_test, reg_poly.predict(X_test_poly), color=\"red\", label=\"Modeled Y Values\")\n",
    "plt.title(\"Plotting Testing Predictions Against Data\")\n",
    "plt.legend()\n",
    "plt.show()"
   ]
  },
  {
   "cell_type": "markdown",
   "metadata": {},
   "source": [
    "##  Calculate the bias and variance for the test set."
   ]
  },
  {
   "cell_type": "code",
   "execution_count": 35,
   "metadata": {},
   "outputs": [
    {
     "name": "stdout",
     "output_type": "stream",
     "text": [
      "-0.06645867886639745\n",
      "0.004422343753889581\n"
     ]
    }
   ],
   "source": [
    "poly_bias_test = bias(y_test, reg_poly.predict(X_test_poly))\n",
    "print(poly_bias_test)\n",
    "poly_var_test = variance(reg_poly.predict(X_test_poly))\n",
    "print(poly_var_test)"
   ]
  },
  {
   "cell_type": "markdown",
   "metadata": {},
   "source": [
    "## Describe what you notice about the bias and variance statistics for your overfit model"
   ]
  },
  {
   "cell_type": "markdown",
   "metadata": {},
   "source": [
    "Your description here (this cell is formatted using markdown)"
   ]
  },
  {
   "cell_type": "markdown",
   "metadata": {},
   "source": [
    "## Level Up - Optional"
   ]
  },
  {
   "cell_type": "markdown",
   "metadata": {},
   "source": [
    "In this lab we went from 4 predictors to 35 by adding polynomials and interactions, using `PolynomialFeatures`. That being said, where 35 leads to overfitting, there are probably ways to improve by just adding a few polynomials. Feel free to experiment and see how bias and variance improve!"
   ]
  },
  {
   "cell_type": "markdown",
   "metadata": {},
   "source": [
    "## Summary"
   ]
  },
  {
   "cell_type": "markdown",
   "metadata": {},
   "source": [
    "This lab gave you insight into how bias and variance change for a training and a test set by using a pretty \"simple\" model, and a very complex model. "
   ]
  }
 ],
 "metadata": {
  "kernelspec": {
   "display_name": "Python 3",
   "language": "python",
   "name": "python3"
  },
  "language_info": {
   "codemirror_mode": {
    "name": "ipython",
    "version": 3
   },
   "file_extension": ".py",
   "mimetype": "text/x-python",
   "name": "python",
   "nbconvert_exporter": "python",
   "pygments_lexer": "ipython3",
<<<<<<< HEAD
   "version": "3.7.3"
=======
   "version": "3.6.6"
>>>>>>> 92cb8a772358e28fa55891737d4e7d218b55d512
  }
 },
 "nbformat": 4,
 "nbformat_minor": 2
}
